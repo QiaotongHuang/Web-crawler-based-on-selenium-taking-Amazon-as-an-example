{
 "cells": [
  {
   "cell_type": "code",
   "execution_count": 83,
   "metadata": {},
   "outputs": [],
   "source": [
    "import re\n",
    "import time\n",
    "import random\n",
    "import prettytable as pt\n",
    "from bs4 import BeautifulSoup"
   ]
  },
  {
   "cell_type": "markdown",
   "metadata": {},
   "source": [
    "<h3>Choose world's BIGGEST shopping website - Amazon to crawl</h3>"
   ]
  },
  {
   "cell_type": "markdown",
   "metadata": {},
   "source": [
    "<h4>Login Script</h4>"
   ]
  },
  {
   "cell_type": "code",
   "execution_count": 61,
   "metadata": {},
   "outputs": [],
   "source": [
    "import time\n",
    "from selenium import webdriver\n",
    "from selenium.webdriver.common.keys import Keys\n",
    "from selenium.webdriver.common.by import By\n",
    "from selenium.webdriver.chrome.options import Options\n",
    "from settings import LOGIN_URL, TIMEOUT, EMAIL, PASSWORD\n",
    "\n",
    "def login_to_amazon():\n",
    "    \"\"\"Login to Amazon.\"\"\"\n",
    "    # login to Amazon\n",
    "\n",
    "    options = Options()\n",
    "    options.add_argument(\"--user-agent=Mozilla/5.0 (Macintosh; Intel Mac OS X 10_8_2) AppleWebKit/537.17 (KHTML, like Gecko) Chrome/24.0.1309.0 Safari/537.17\")\n",
    "    options.add_argument(\"--start-maximized\")  # Maximize the browser window\n",
    "    options.add_argument(\"--disable-notifications\")\n",
    "    options.add_argument(\"--disable-popup-blocking\")\n",
    "    options.add_argument(\"--disable-infobars\")\n",
    "    options.add_argument(\"--disable-extensions\")\n",
    "    options.add_experimental_option(\"prefs\", \n",
    "                                {\"profile.default_content_setting_values.notifications\": 2 \n",
    "                                }) \n",
    "\n",
    "    driver = webdriver.Chrome(\n",
    "    # WEB_DRIVER_LOCATION, \n",
    "    options=options)\n",
    "    driver.get(LOGIN_URL)\n",
    "    time.sleep(TIMEOUT)\n",
    "    login = driver.find_element(By.ID, 'ap_email')\n",
    "    login.send_keys(EMAIL)\n",
    "    login.send_keys(Keys.ENTER)\n",
    "\n",
    "    submit = driver.find_element(By.ID, 'ap_password')\n",
    "    submit.send_keys(PASSWORD)\n",
    "    submit.send_keys(Keys.ENTER)"
   ]
  },
  {
   "cell_type": "markdown",
   "metadata": {},
   "source": [
    "### Extract Data\n",
    "\n",
    "Eight key points for every Products are:\n",
    "1. Book Title\n",
    "2. Product URL\n",
    "3. Price\n",
    "4. Solder\n",
    "5. Review\n",
    "6. Review Number\n",
    "7. Image URL\n",
    "8. Crawl Time"
   ]
  },
  {
   "cell_type": "code",
   "execution_count": 62,
   "metadata": {},
   "outputs": [],
   "source": [
    "def get_product_title(item):\n",
    "    product_title = item.find('span', class_='a-size-medium a-color-base a-text-normal')\n",
    "    if product_title:\n",
    "        return product_title.text.strip()\n",
    "    else:\n",
    "        return \"<missing product title>\""
   ]
  },
  {
   "cell_type": "code",
   "execution_count": 63,
   "metadata": {},
   "outputs": [],
   "source": [
    "BASE_URL = 'https://www.amazon.com'\n",
    "def get_product_url(item):\n",
    "    product_url = item.find('a', class_='a-link-normal s-underline-text s-underline-link-text s-link-style a-text-normal')\n",
    "    if product_url and product_url.get('href'):\n",
    "        # if the url is relative, add the base url\n",
    "        if product_url.get('href').startswith('/'):\n",
    "            return BASE_URL+product_url.get('href').strip()\n",
    "        return product_url.get('href').strip()\n",
    "    else:\n",
    "        return \"<missing product url>\""
   ]
  },
  {
   "cell_type": "code",
   "execution_count": 64,
   "metadata": {},
   "outputs": [],
   "source": [
    "def get_product_price(item):\n",
    "    product_price = item.find('span', class_='a-offscreen')\n",
    "    if product_price:\n",
    "        return product_price.text.strip()\n",
    "    else:\n",
    "        return \"<missing product price>\""
   ]
  },
  {
   "cell_type": "code",
   "execution_count": 65,
   "metadata": {},
   "outputs": [],
   "source": [
    "def get_product_solder(item):\n",
    "    product_solder = item.find('a', class_='a-size-base a-link-normal s-underline-text s-underline-link-text s-link-style')\n",
    "    if product_solder:\n",
    "        return product_solder.text.strip()\n",
    "    else:\n",
    "        return \"<missing product solder>\""
   ]
  },
  {
   "cell_type": "code",
   "execution_count": 66,
   "metadata": {},
   "outputs": [],
   "source": [
    "def get_product_review(item):\n",
    "    product_review = item.find('span', class_='a-icon-alt')\n",
    "    if product_review:\n",
    "        return product_review.text.strip()\n",
    "    else:\n",
    "        return \"<missing product review>\""
   ]
  },
  {
   "cell_type": "code",
   "execution_count": 67,
   "metadata": {},
   "outputs": [],
   "source": [
    "def get_product_review_number(item):\n",
    "    product_review_number = item.find('span', class_='a-size-base s-underline-text')\n",
    "    if product_review_number:\n",
    "        return product_review_number.text.strip()\n",
    "    else:\n",
    "        return \"<missing product review number>\""
   ]
  },
  {
   "cell_type": "code",
   "execution_count": 68,
   "metadata": {},
   "outputs": [],
   "source": [
    "BASE_URL = 'https://www.amazon.com'\n",
    "def get_product_image_url(item):\n",
    "    product_image_url = item.find('img', class_='s-image')\n",
    "    if product_image_url and product_image_url.get('src'):\n",
    "        if product_image_url.get('src').startswith('/'):\n",
    "            return BASE_URL+product_image_url.get('src').strip()\n",
    "        return product_image_url.get('src').strip()\n",
    "    else:\n",
    "        return \"<missing product image url>\""
   ]
  },
  {
   "cell_type": "markdown",
   "metadata": {},
   "source": [
    "<h4>extract information from product item</h4>"
   ]
  },
  {
   "cell_type": "code",
   "execution_count": 69,
   "metadata": {},
   "outputs": [],
   "source": [
    "def product_extractor(item):\n",
    "    crawl_time = time.strftime('%Y-%m-%d %H:%M:%S',time.localtime(time.time()))\n",
    "    product_title = get_product_title(item)\n",
    "    product_url = get_product_url(item)\n",
    "    product_price = get_product_price(item)\n",
    "    product_solder = get_product_solder(item)\n",
    "    product_review = get_product_review(item)\n",
    "    product_review_number = get_product_review_number(item)\n",
    "    product_image_url = get_product_image_url(item)\n",
    "\n",
    "    return (product_title, product_url, product_price, product_solder, product_review, product_review_number, product_image_url, crawl_time)       "
   ]
  },
  {
   "cell_type": "markdown",
   "metadata": {},
   "source": [
    "<h4>Get next page of amazon products</h4>"
   ]
  },
  {
   "cell_type": "code",
   "execution_count": 70,
   "metadata": {},
   "outputs": [],
   "source": [
    "# get next page url\n",
    "def get_next_page_url(soup):\n",
    "    BASE_URL = 'https://www.amazon.com'\n",
    "    # find the element that contains the next page url\n",
    "    urlListElement = soup.find('a', {'class': 's-pagination-item s-pagination-next s-pagination-button s-pagination-separator'})\n",
    "    if urlListElement and urlListElement.get('href'):\n",
    "        # if the url is relative, add the base url\n",
    "        if urlListElement.get('href').startswith('/'):\n",
    "            next_url = BASE_URL+urlListElement.get('href')\n",
    "        else:\n",
    "            next_url = urlListElement.get('href')\n",
    "        return next_url\n",
    "    return None"
   ]
  },
  {
   "cell_type": "markdown",
   "metadata": {},
   "source": [
    "<h3>Single Page Test</h3>"
   ]
  },
  {
   "cell_type": "code",
   "execution_count": 71,
   "metadata": {},
   "outputs": [],
   "source": [
    "def get_soup_from_url(url):\n",
    "    \"\"\"Return a BeautifulSoup object from the given URL.\"\"\"\n",
    "\n",
    "    options = Options()\n",
    "    # avoid bot detection  - https://stackoverflow.com/questions/49565042/way-to-change-google-chrome-user-agent-in-selenium/49565254#49565254\n",
    "    options.add_argument(\"--user-agent=Mozilla/5.0 (Macintosh; Intel Mac OS X 10_8_2) AppleWebKit/537.17 (KHTML, like Gecko) Chrome/24.0.1309.0 Safari/537.17\")\n",
    "    options.add_argument(\"--start-maximized\")  # Maximize the browser window\n",
    "    options.add_argument(\"--disable-notifications\")\n",
    "    options.add_argument(\"--disable-popup-blocking\")\n",
    "    options.add_argument(\"--disable-infobars\")\n",
    "    options.add_argument(\"--disable-extensions\")\n",
    "    options.add_experimental_option(\"prefs\", \n",
    "                                    {\"profile.default_content_setting_values.notifications\": 2 \n",
    "                                    }) \n",
    "\n",
    "    driver = webdriver.Chrome(\n",
    "        # WEB_DRIVER_LOCATION, \n",
    "        options=options)\n",
    "    driver.get(url)\n",
    "\n",
    "    # Timeout needed for Web page to render (read more about it)\n",
    "    time.sleep(3)\n",
    "\n",
    "    html = driver.page_source\n",
    "\n",
    "    # Get the source of the page and create a BeautifulSoup object\n",
    "    soup = BeautifulSoup(html, 'html.parser')\n",
    "\n",
    "    return soup"
   ]
  },
  {
   "cell_type": "code",
   "execution_count": 117,
   "metadata": {},
   "outputs": [
    {
     "name": "stdout",
     "output_type": "stream",
     "text": [
      "https://www.amazon.com/s?k=Kindle+Store&i=digital-text&rh=n%3A133140011%2Cp_n_deal_type%3A23566064011&dc&page=2&qid=1706502888&rnid=1248985011&ref=sr_pg_1\n",
      "+-----------------------------------------------------------------------------------------------------------------------------------------------------------------------+-------------------------------------------------------------------------------------------------------------------------------------------------------------------------------------------------------------------------------------------------------------------------------------------------------------------------------------------------------------------------------------------------------------------------+-------+----------------------+--------------------+---------------+----------------------------------------------------------------+---------------------+\n",
      "|                                                                                 Title                                                                                 |                                                                                                                                                                                                       Product URL                                                                                                                                                                                                       | Price |        Solder        |       Review       | Review Number |                           Image URL                            |      Crawl Time     |\n",
      "+-----------------------------------------------------------------------------------------------------------------------------------------------------------------------+-------------------------------------------------------------------------------------------------------------------------------------------------------------------------------------------------------------------------------------------------------------------------------------------------------------------------------------------------------------------------------------------------------------------------+-------+----------------------+--------------------+---------------+----------------------------------------------------------------+---------------------+\n",
      "|                                                                         In Five Years: A Novel                                                                        |                                                                                                         https://www.amazon.com/Five-Years-Novel-Rebecca-Serle-ebook/dp/B07TFB5VWB/ref=sr_1_1?keywords=Kindle+Store&qid=1706502888&refinements=p_n_deal_type%3A23566064011&rnid=1248985011&s=digital-text&sr=1-1                                                                                                         | $1.99 |    Rebecca Serle     | 4.3 out of 5 stars |     59,610    | https://m.media-amazon.com/images/I/71HYziDaoKL._AC_UY218_.jpg | 2024-01-28 23:34:53 |\n",
      "|                                                                         Hang the Moon: A Novel                                                                        |                                                                                                         https://www.amazon.com/Hang-Moon-Novel-Jeannette-Walls-ebook/dp/B0B3Y5Q75C/ref=sr_1_2?keywords=Kindle+Store&qid=1706502888&refinements=p_n_deal_type%3A23566064011&rnid=1248985011&s=digital-text&sr=1-2                                                                                                        | $1.99 |   Jeannette Walls    | 4.3 out of 5 stars |     12,792    | https://m.media-amazon.com/images/I/81uA7guidTL._AC_UY218_.jpg | 2024-01-28 23:34:53 |\n",
      "|                           The Fake Wife: An absolutely gripping psychological thriller with jaw-dropping twists from the author of THE SPLIT                          |                                                                                                 https://www.amazon.com/Fake-Wife-absolutely-psychological-jaw-dropping-ebook/dp/B0CH7Z519N/ref=sr_1_3?keywords=Kindle+Store&qid=1706502888&refinements=p_n_deal_type%3A23566064011&rnid=1248985011&s=digital-text&sr=1-3                                                                                                | $0.99 | Hachette  Book Group | 4.3 out of 5 stars |      224      | https://m.media-amazon.com/images/I/71mT6z0DFtL._AC_UY218_.jpg | 2024-01-28 23:34:53 |\n",
      "|                             The Girl Who Survived Auschwitz: A remarkable and compelling memoir of love, loss and hope during World War II                            |                                                                                                     https://www.amazon.com/Girl-Who-Survived-Auschwitz-captivating-ebook/dp/B0BXCW2T96/ref=sr_1_4?keywords=Kindle+Store&qid=1706502888&refinements=p_n_deal_type%3A23566064011&rnid=1248985011&s=digital-text&sr=1-4                                                                                                    | $0.99 |      Eti Elboim      | 4.5 out of 5 stars |      254      | https://m.media-amazon.com/images/I/81nK5rsIRsL._AC_UY218_.jpg | 2024-01-28 23:34:53 |\n",
      "|                Stranded: A completely unputdownable psychological thriller with a jaw-dropping twist: Escape with the most twisty thriller of the year                |                                                                                          https://www.amazon.com/Stranded-completely-unputdownable-psychological-jaw-dropping-ebook/dp/B091BNQDQW/ref=sr_1_5?keywords=Kindle+Store&qid=1706502888&refinements=p_n_deal_type%3A23566064011&rnid=1248985011&s=digital-text&sr=1-5                                                                                          | $0.99 |    Sarah Goodwin     | 4.4 out of 5 stars |     5,911     | https://m.media-amazon.com/images/I/91VbdCFgamS._AC_UY218_.jpg | 2024-01-28 23:34:53 |\n",
      "|                               The New House: An absolutely jaw-dropping psychological thriller with a killer twist you won’t see coming                               |                                                                                                 https://www.amazon.com/New-House-absolutely-jaw-dropping-psychological-ebook/dp/B09PQHZ41V/ref=sr_1_6?keywords=Kindle+Store&qid=1706502888&refinements=p_n_deal_type%3A23566064011&rnid=1248985011&s=digital-text&sr=1-6                                                                                                | $0.99 |     Tess Stimson     | 4.3 out of 5 stars |     4,102     | https://m.media-amazon.com/images/I/81fnhoFyamL._AC_UY218_.jpg | 2024-01-28 23:34:53 |\n",
      "|                                             The Comedians: Drunks, Thieves, Scoundrels, and the History of American Comedy                                            |                                                                                                  https://www.amazon.com/Comedians-Thieves-Scoundrels-History-American-ebook/dp/B00XAQ1O7Y/ref=sr_1_7?keywords=Kindle+Store&qid=1706502888&refinements=p_n_deal_type%3A23566064011&rnid=1248985011&s=digital-text&sr=1-7                                                                                                 | $2.99 |   Kliph Nesteroff    | 4.3 out of 5 stars |     1,587     | https://m.media-amazon.com/images/I/81ClFht8YZL._AC_UY218_.jpg | 2024-01-28 23:34:53 |\n",
      "|           Summer at the Comfort Food Café: A gorgeously uplifting and heartwarming romantic comedy to escape with this 2024! (The Comfort Food Café, Book 1)          |                                                                                                           https://www.amazon.com/Summer-at-Comfort-Food-Cafe-ebook/dp/B015EXDQIA/ref=sr_1_8?keywords=Kindle+Store&qid=1706502888&refinements=p_n_deal_type%3A23566064011&rnid=1248985011&s=digital-text&sr=1-8                                                                                                          | $0.99 |    Debbie Johnson    | 4.4 out of 5 stars |     13,871    | https://m.media-amazon.com/images/I/813orFDQSeL._AC_UY218_.jpg | 2024-01-28 23:34:53 |\n",
      "|                                                                        A Woman's Place: A Novel                                                                       |                                                                                                       https://www.amazon.com/Womans-Place-Novel-Barbara-Delinsky-ebook/dp/B000FCKH5Q/ref=sr_1_9?keywords=Kindle+Store&qid=1706502888&refinements=p_n_deal_type%3A23566064011&rnid=1248985011&s=digital-text&sr=1-9                                                                                                      | $1.99 |   Barbara Delinsky   | 4.4 out of 5 stars |     1,498     | https://m.media-amazon.com/images/I/51XVo03R76L._AC_UY218_.jpg | 2024-01-28 23:34:53 |\n",
      "|                        The Girl with the Emerald Flag: A gripping Irish historical fiction dual timeline novel perfect for fans of Kate Morton                        |                                                                                                    https://www.amazon.com/Girl-Emerald-Flag-absolutely-historical-ebook/dp/B0BGQV8VH7/ref=sr_1_10?keywords=Kindle+Store&qid=1706502888&refinements=p_n_deal_type%3A23566064011&rnid=1248985011&s=digital-text&sr=1-10                                                                                                   | $0.99 |   Kathleen McGurl    | 4.4 out of 5 stars |      593      | https://m.media-amazon.com/images/I/81i6SumDUAL._AC_UY218_.jpg | 2024-01-28 23:34:53 |\n",
      "|                                                                            Dark One Book 1                                                                            |                                                                                                        https://www.amazon.com/DARK-ONE-BOOK-Brandon-Sanderson-ebook/dp/B09FFQTNLC/ref=sr_1_11?keywords=Kindle+Store&qid=1706502888&refinements=p_n_deal_type%3A23566064011&rnid=1248985011&s=digital-text&sr=1-11                                                                                                       | $4.99 |  Brandon Sanderson   | 4.4 out of 5 stars |      608      | https://m.media-amazon.com/images/I/812Ayp5zKvL._AC_UY218_.jpg | 2024-01-28 23:34:53 |\n",
      "|                                                                             Tangled Hearts                                                                            |       https://www.amazon.com/sspa/click?ie=UTF8&spc=MTo1NjQ2OTUxMDg1Mzc3MDI4OjE3MDY1MDI4ODg6c3BfbXRmOjIwMDE2NjcxMzcyNjA5ODo6MDo6&url=%2FTangled-Hearts-M-S-Parker-ebook%2Fdp%2FB0C51MHSKQ%2Fref%3Dsr_1_12_sspa%3Fkeywords%3DKindle%2BStore%26qid%3D1706502888%26refinements%3Dp_n_deal_type%253A23566064011%26rnid%3D1248985011%26s%3Ddigital-text%26sr%3D1-12-spons%26sp_csd%3Dd2lkZ2V0TmFtZT1zcF9tdGY%26psc%3D1       | $0.00 |     M. S. Parker     | 4.4 out of 5 stars |      798      | https://m.media-amazon.com/images/I/81AzUo1z42L._AC_UY218_.jpg | 2024-01-28 23:34:53 |\n",
      "| The Cornish Wedding Murder: An absolutely gripping and laugh-out-loud cozy mystery series filled with twists and turns for 2024 (A Nosey Parker Cozy Mystery, Book 1) |                                                                                                     https://www.amazon.com/Murder-Menu-gripping-mystery-Mystery-ebook/dp/B08BHN4H1P/ref=sr_1_13?keywords=Kindle+Store&qid=1706502888&refinements=p_n_deal_type%3A23566064011&rnid=1248985011&s=digital-text&sr=1-13                                                                                                     | $0.99 |     Fiona Leitch     | 4.1 out of 5 stars |     5,082     | https://m.media-amazon.com/images/I/81ZdxFPII+L._AC_UY218_.jpg | 2024-01-28 23:34:53 |\n",
      "|                                     The Secret Wife: A captivating story of romance, passion and mystery: Love. Guilt. Heartbreak.                                    |                                                                                                    https://www.amazon.com/Secret-Wife-captivating-romance-passion-ebook/dp/B01D4O804G/ref=sr_1_14?keywords=Kindle+Store&qid=1706502888&refinements=p_n_deal_type%3A23566064011&rnid=1248985011&s=digital-text&sr=1-14                                                                                                   | $0.99 |      Gill Paul       | 4.4 out of 5 stars |     50,748    | https://m.media-amazon.com/images/I/91F7fA8PXoL._AC_UY218_.jpg | 2024-01-28 23:34:53 |\n",
      "|                 The Missing Daughter: A gripping and heart-wrenching novel with a shocking twist from the bestselling author of THE GIRL IN THE LETTER                |                                                                                                     https://www.amazon.com/Lost-Child-bestselling-author-Letter-ebook/dp/B07PP27ZR7/ref=sr_1_15?keywords=Kindle+Store&qid=1706502888&refinements=p_n_deal_type%3A23566064011&rnid=1248985011&s=digital-text&sr=1-15                                                                                                     | $0.99 |    Emily  Gunnis     | 4.3 out of 5 stars |     4,423     | https://m.media-amazon.com/images/I/91YHr-jT9XS._AC_UY218_.jpg | 2024-01-28 23:34:53 |\n",
      "|         The Poppy Sisters: Step into the past with this captivating historical novel, filled with heart-wrenching moments and unforgettable characters in 2024        |                                                                                                          https://www.amazon.com/Poppy-Sisters-Deborah-Carr-ebook/dp/B0BJTZQWL5/ref=sr_1_16?keywords=Kindle+Store&qid=1706502888&refinements=p_n_deal_type%3A23566064011&rnid=1248985011&s=digital-text&sr=1-16                                                                                                          | $0.99 |     Deborah Carr     | 4.0 out of 5 stars |     1,741     | https://m.media-amazon.com/images/I/819EwWj9+DL._AC_UY218_.jpg | 2024-01-28 23:34:53 |\n",
      "|                                                          Cowboy Seeking Nanny (Cowboys of Moss Creek Book 1)                                                          | https://www.amazon.com/sspa/click?ie=UTF8&spc=MTo1NjQ2OTUxMDg1Mzc3MDI4OjE3MDY1MDI4ODg6c3BfbXRmOjIwMDA1NDM5NTc4NDQyMTo6MDo6&url=%2FCowboy-Seeking-Nanny-Classifieds-Book-ebook%2Fdp%2FB08DM2SLCT%2Fref%3Dsr_1_17_sspa%3Fkeywords%3DKindle%2BStore%26qid%3D1706502888%26refinements%3Dp_n_deal_type%253A23566064011%26rnid%3D1248985011%26s%3Ddigital-text%26sr%3D1-17-spons%26sp_csd%3Dd2lkZ2V0TmFtZT1zcF9tdGY%26psc%3D1 | $0.00 |   Janice Whiteaker   | 4.5 out of 5 stars |     6,170     | https://m.media-amazon.com/images/I/71UPQuR1BgL._AC_UY218_.jpg | 2024-01-28 23:34:53 |\n",
      "|                                                  The Velvet Promise (The Velvet Montgomery Annals Quadrilogy Book 1)                                                  |                                                                                                  https://www.amazon.com/Velvet-Promise-Montgomery-Annals-Quadrilogy-ebook/dp/B000FC0W88/ref=sr_1_18?keywords=Kindle+Store&qid=1706502888&refinements=p_n_deal_type%3A23566064011&rnid=1248985011&s=digital-text&sr=1-18                                                                                                 | $1.99 |    Jude Deveraux     | 4.4 out of 5 stars |     1,777     | https://m.media-amazon.com/images/I/71+w7nePduL._AC_UY218_.jpg | 2024-01-28 23:34:53 |\n",
      "|                                                       Noble Beginnings: A Thriller (Jack Noble Thrillers Book 1)                                                      |     https://www.amazon.com/sspa/click?ie=UTF8&spc=MTo1NjQ2OTUxMDg1Mzc3MDI4OjE3MDY1MDI4ODg6c3BfYnRmOjMwMDAyOTk3MDE4MDMwMjo6MDo6&url=%2FNoble-Beginnings-Jack-Thriller-ebook%2Fdp%2FB009K8RHNQ%2Fref%3Dsr_1_19_sspa%3Fkeywords%3DKindle%2BStore%26qid%3D1706502888%26refinements%3Dp_n_deal_type%253A23566064011%26rnid%3D1248985011%26s%3Ddigital-text%26sr%3D1-19-spons%26sp_csd%3Dd2lkZ2V0TmFtZT1zcF9idGY%26psc%3D1    | $0.99 |      L.T. Ryan       | 4.0 out of 5 stars |     35,246    | https://m.media-amazon.com/images/I/91pXKpUfGgL._AC_UY218_.jpg | 2024-01-28 23:34:53 |\n",
      "|                                                                Noble Intentions: A Jack Noble Thriller                                                                |        https://www.amazon.com/sspa/click?ie=UTF8&spc=MTo1NjQ2OTUxMDg1Mzc3MDI4OjE3MDY1MDI4ODg6c3BfYnRmOjMwMDAyNjczMjkyMTAwMjo6MDo6&url=%2FNoble-Intentions-Jack-4-ebook%2Fdp%2FB0092ETUTC%2Fref%3Dsr_1_20_sspa%3Fkeywords%3DKindle%2BStore%26qid%3D1706502888%26refinements%3Dp_n_deal_type%253A23566064011%26rnid%3D1248985011%26s%3Ddigital-text%26sr%3D1-20-spons%26sp_csd%3Dd2lkZ2V0TmFtZT1zcF9idGY%26psc%3D1        | $2.99 |      L.T. Ryan       | 4.3 out of 5 stars |     15,577    | https://m.media-amazon.com/images/I/91Zfnn7I9yL._AC_UY218_.jpg | 2024-01-28 23:34:53 |\n",
      "+-----------------------------------------------------------------------------------------------------------------------------------------------------------------------+-------------------------------------------------------------------------------------------------------------------------------------------------------------------------------------------------------------------------------------------------------------------------------------------------------------------------------------------------------------------------------------------------------------------------+-------+----------------------+--------------------+---------------+----------------------------------------------------------------+---------------------+\n"
     ]
    }
   ],
   "source": [
    "# single page test code\n",
    "testURL = \"https://www.amazon.com/s?k=Kindle+Store&i=digital-text&rh=n%3A133140011%2Cp_n_deal_type%3A23566064011&dc&qid=1706467617&rnid=1248985011&ref=sr_nr_selected_filters_p_72_2&ds=v1%3AZRC4RT1%2BRvrPmt8FTw4mkJ%2Bk3F4sePA2BYDE5yVqA0s\" \n",
    "\n",
    "tb = pt.PrettyTable() \n",
    "tb.field_names = [\"Title\", \"Product URL\", \"Price\", \"Solder\", \"Review\", \"Review Number\", \"Image URL\", \"Crawl Time\"] \n",
    "soup = get_soup_from_url(testURL)\n",
    "next_url = get_next_page_url(soup)\n",
    "print(next_url)\n",
    "ProductListElement = soup.find_all('div', {'cel_widget_id': re.compile('MAIN-SEARCH_RESULTS-\\d+'),'class': 'template=SEARCH_RESULTS'})\n",
    "for item in ProductListElement:\n",
    "    # get the product information\n",
    "    title, url, price, solder, review, review_number, image_url, crawl_time = product_extractor(item)\n",
    "    tb.add_row([title, url, price, solder, review, review_number, image_url, crawl_time]) \n",
    "print(tb)"
   ]
  },
  {
   "cell_type": "code",
   "execution_count": 73,
   "metadata": {},
   "outputs": [],
   "source": [
    "from bs4 import BeautifulSoup\n",
    "\n",
    "def get_soup_from_driver(driver):\n",
    "    \"\"\"Return a BeautifulSoup object from the given driver.\"\"\"\n",
    "\n",
    "    html = driver.page_source\n",
    "\n",
    "    # Get the source of the page and create a BeautifulSoup object\n",
    "    soup = BeautifulSoup(html, 'html.parser')\n",
    "\n",
    "    return soup"
   ]
  },
  {
   "cell_type": "markdown",
   "metadata": {},
   "source": [
    "<h3>Main Entry</h3>"
   ]
  },
  {
   "cell_type": "markdown",
   "metadata": {},
   "source": [
    "<h4>get urlList</h4>"
   ]
  },
  {
   "cell_type": "code",
   "execution_count": 105,
   "metadata": {},
   "outputs": [
    {
     "name": "stdout",
     "output_type": "stream",
     "text": [
      "['https://www.amazon.com/s?k=Kindle+Store&i=digital-text&rh=n%3A133140011%2Cp_n_deal_type%3A23566064011&dc&qid=1706467617&rnid=1248985011&ref=sr_nr_selected_filters_p_72_2&ds=v1%3AZRC4RT1%2BRvrPmt8FTw4mkJ%2Bk3F4sePA2BYDE5yVqA0s', 'https://www.amazon.com/s?k=Kindle+Store&i=digital-text&rh=n%3A133140011%2Cp_n_deal_type%3A23566064011&dc&page=2&qid=1706500367&rnid=1248985011&ref=sr_pg_1', 'https://www.amazon.com/s?k=Kindle+Store&i=digital-text&rh=n%3A133140011%2Cp_n_deal_type%3A23566064011&dc&page=3&qid=1706500373&rnid=1248985011&ref=sr_pg_2', 'https://www.amazon.com/s?k=Kindle+Store&i=digital-text&rh=n%3A133140011%2Cp_n_deal_type%3A23566064011&dc&page=4&qid=1706500383&rnid=1248985011&ref=sr_pg_3', 'https://www.amazon.com/s?k=Kindle+Store&i=digital-text&rh=n%3A133140011%2Cp_n_deal_type%3A23566064011&dc&page=5&qid=1706500391&rnid=1248985011&ref=sr_pg_4', 'https://www.amazon.com/s?k=Kindle+Store&i=digital-text&rh=n%3A133140011%2Cp_n_deal_type%3A23566064011&dc&page=6&qid=1706500401&rnid=1248985011&ref=sr_pg_5', 'https://www.amazon.com/s?k=Kindle+Store&i=digital-text&rh=n%3A133140011%2Cp_n_deal_type%3A23566064011&dc&page=7&qid=1706500412&rnid=1248985011&ref=sr_pg_6', 'https://www.amazon.com/s?k=Kindle+Store&i=digital-text&rh=n%3A133140011%2Cp_n_deal_type%3A23566064011&dc&page=8&qid=1706500420&rnid=1248985011&ref=sr_pg_7', 'https://www.amazon.com/s?k=Kindle+Store&i=digital-text&rh=n%3A133140011%2Cp_n_deal_type%3A23566064011&dc&page=9&qid=1706500429&rnid=1248985011&ref=sr_pg_8', 'https://www.amazon.com/s?k=Kindle+Store&i=digital-text&rh=n%3A133140011%2Cp_n_deal_type%3A23566064011&dc&page=10&qid=1706500439&rnid=1248985011&ref=sr_pg_9', 'https://www.amazon.com/s?k=Kindle+Store&i=digital-text&rh=n%3A133140011%2Cp_n_deal_type%3A23566064011&dc&page=11&qid=1706500447&rnid=1248985011&ref=sr_pg_10', 'https://www.amazon.com/s?k=Kindle+Store&i=digital-text&rh=n%3A133140011%2Cp_n_deal_type%3A23566064011&dc&page=12&qid=1706500459&rnid=1248985011&ref=sr_pg_11', 'https://www.amazon.com/s?k=Kindle+Store&i=digital-text&rh=n%3A133140011%2Cp_n_deal_type%3A23566064011&dc&page=13&qid=1706500469&rnid=1248985011&ref=sr_pg_12', 'https://www.amazon.com/s?k=Kindle+Store&i=digital-text&rh=n%3A133140011%2Cp_n_deal_type%3A23566064011&dc&page=14&qid=1706500480&rnid=1248985011&ref=sr_pg_13', 'https://www.amazon.com/s?k=Kindle+Store&i=digital-text&rh=n%3A133140011%2Cp_n_deal_type%3A23566064011&dc&page=15&qid=1706500488&rnid=1248985011&ref=sr_pg_14', 'https://www.amazon.com/s?k=Kindle+Store&i=digital-text&rh=n%3A133140011%2Cp_n_deal_type%3A23566064011&dc&page=16&qid=1706500497&rnid=1248985011&ref=sr_pg_15']\n"
     ]
    }
   ],
   "source": [
    "from selenium.webdriver.common.keys import Keys\n",
    "from selenium.webdriver.common.by import By\n",
    "\n",
    "TIMEOUT = 5\n",
    "user_agent_list = ['Mozilla/5.0 (compatible; MSIE 8.0; Windows NT 6.0; Trident/4.0; Acoo Browser 1.98.744; .NET CLR 3.5.30729)',\n",
    "    'Mozilla/5.0 (compatible; MSIE 8.0; Windows NT 6.0; Trident/4.0; Acoo Browser 1.98.744; .NET CLR 3.5.30729)',\n",
    "    'Mozilla/4.0 (compatible; MSIE 8.0; Windows NT 6.0; Trident/4.0; Acoo Browser; GTB5; Mozilla/4.0 (compatible; MSIE 6.0; Windows NT 5.1; SV1) ; InfoPath.1; .NET CLR 3.5.30729; .NET CLR 3.0.30618)',\n",
    "    'Mozilla/4.0 (compatible; MSIE 8.0; Windows NT 5.1; Trident/4.0; SV1; Acoo Browser; .NET CLR 2.0.50727; .NET CLR 3.0.4506.2152; .NET CLR 3.5.30729; Avant Browser)',\n",
    "    'Mozilla/4.0 (compatible; MSIE 7.0; Windows NT 6.0; Acoo Browser; SLCC1; .NET CLR 2.0.50727; Media Center PC 5.0; .NET CLR 3.0.04506)',\n",
    "    'Mozilla/4.0 (compatible; MSIE 7.0; Windows NT 6.0; Acoo Browser; GTB5; Mozilla/4.0 (compatible; MSIE 6.0; Windows NT 5.1; SV1) ; Maxthon; InfoPath.1; .NET CLR 3.5.30729; .NET CLR 3.0.30618)',\n",
    "    'Mozilla/4.0 (compatible; MSIE 7.0; Windows NT 6.0; Acoo Browser; GTB5;',\n",
    "    'Mozilla/4.0 (compatible; Mozilla/5.0 (compatible; MSIE 8.0; Windows NT 6.0; Trident/4.0; Acoo Browser 1.98.744; .NET CLR 3.5.30729); Windows NT 5.1; Trident/4.0)',\n",
    "    'Mozilla/4.0 (compatible; Mozilla/4.0 (compatible; MSIE 8.0; Windows NT 5.1; Trident/4.0; GTB6; Acoo Browser; .NET CLR 1.1.4322; .NET CLR 2.0.50727); Windows NT 5.1; Trident/4.0; Maxthon; .NET CLR 2.0.50727; .NET CLR 1.1.4322; InfoPath.2)',\n",
    "    'Mozilla/4.0 (compatible; MSIE 8.0; Windows NT 6.0; Trident/4.0; Acoo Browser; GTB6; Mozilla/4.0 (compatible; MSIE 6.0; Windows NT 5.1; SV1) ; InfoPath.1; .NET CLR 3.5.30729; .NET CLR 3.0.30618)',\n",
    "    'Mozilla/4.0 (compatible; MSIE 8.0; Windows NT 6.0; Trident/4.0; Acoo Browser; GTB5; Mozilla/4.0 (compatible; MSIE 6.0; Windows NT 5.1; SV1) ; InfoPath.1; .NET CLR 3.5.30729; .NET CLR 3.0.30618)',\n",
    "    'Mozilla/4.0 (compatible; MSIE 8.0; Windows NT 5.1; Trident/4.0; GTB6; Acoo Browser; .NET CLR 1.1.4322; .NET CLR 2.0.50727)',\n",
    "    'Mozilla/4.0 (compatible; MSIE 7.0; Windows NT 6.0; Trident/4.0; Acoo Browser; GTB5; Mozilla/4.0 (compatible; MSIE 6.0; Windows NT 5.1; SV1) ; InfoPath.1; .NET CLR 3.5.30729; .NET CLR 3.0.30618)',\n",
    "    'Mozilla/4.0 (compatible; MSIE 7.0; Windows NT 6.0; Acoo Browser; SLCC1; .NET CLR 2.0.50727; Media Center PC 5.0; .NET CLR 3.0.04506)',\n",
    "    'Mozilla/4.0 (compatible; MSIE 7.0; Windows NT 6.0; Acoo Browser; GTB5; SLCC1; .NET CLR 2.0.50727; Media Center PC 5.0; .NET CLR 3.0.04506)',\n",
    "    'Mozilla/4.0 (compatible; MSIE 7.0; Windows NT 6.0; Acoo Browser; GTB5; Mozilla/4.0 (compatible; MSIE 6.0; Windows NT 5.1; SV1) ; InfoPath.1; .NET CLR 3.5.30729; .NET CLR 3.0.30618)',\n",
    "    'Mozilla/4.0 (compatible; MSIE 7.0; Windows NT 5.1; Acoo Browser; InfoPath.2; .NET CLR 2.0.50727; Alexa Toolbar)',\n",
    "    'Mozilla/4.0 (compatible; MSIE 7.0; Windows NT 5.1; Acoo Browser; .NET CLR 2.0.50727; .NET CLR 1.1.4322)',\n",
    "    'Mozilla/4.0 (compatible; MSIE 7.0; Windows NT 5.1; Acoo Browser; .NET CLR 1.0.3705; .NET CLR 1.1.4322; .NET CLR 2.0.50727; FDM; .NET CLR 3.0.04506.30; .NET CLR 3.0.04506.648; .NET CLR 3.5.21022; InfoPath.2)',\n",
    "    'Mozilla/4.0 (compatible; MSIE 6.0; Windows NT 5.1; SV1; Acoo Browser; .NET CLR 1.1.4322; .NET CLR 2.0.50727)',\n",
    "    'Mozilla/5.0 (Macintosh; Intel Mac OS X 10_8_2) AppleWebKit/537.17 (KHTML, like Gecko) Chrome/24.0.1309.0 Safari/537.17']\n",
    "\n",
    "options = Options()\n",
    "    # avoid bot detection  - https://stackoverflow.com/questions/49565042/way-to-change-google-chrome-user-agent-in-selenium/49565254#49565254\n",
    "options.add_argument(\"--user-agent={}\".format(random.choice(user_agent_list)))\n",
    "options.add_argument(\"--start-maximized\")  # Maximize the browser window\n",
    "options.add_argument(\"--disable-notifications\")\n",
    "options.add_argument(\"--disable-popup-blocking\")\n",
    "options.add_argument(\"--disable-infobars\")\n",
    "options.add_argument(\"--disable-extensions\")\n",
    "    # options.add_argument(\"--headless\") # Runs Chrome in headless mode.\n",
    "options.add_argument('--cookie=lwa-context=9872941c399f7d905fe29b64a28c533d; session-id=136-4085273-4202024; ubid-main=132-1087777-9092235; sp-cdn=\"L5Z9:CA\"; x-main=\"yoLGt6tY2Av179LTUtE1B5i0mc3NoEkYCuq9NUs?IrOpfx447fUI@3NOG@j8yx73\"; at-main=Atza|IwEBIDJVhPoDUtx-YjlDA48o5m2WQVmwarVBK9N1_sxeXoMZ_PrzJSm7Wh3VXmVUNir7xDSSNijJbg6BIrm0NobFfF1Kd898nZCHaWRhZFAI59IFu5hGxWGXSi-DyXe9MgymkiwgymPEErPtRokjY_U9vEUKIqhF-6ihd4eCZ6ocYWanMOxit6gFb4kv9_07p80dbW7E2UupHcmSSXowXgqtG70yo7g_NBqaeyT4NQOHi31Ogw; sess-at-main=\"gAG1urrtNUraAE0iBhe6StwiU2cAxc1vN+lUlrcfbjw=\"; sst-main=Sst1|PQGvR6pn3EMISk7_KeNZhnCMCfikkXSlYGM2tVdEIgqgZ5rV0wyOOZButl2JEXdREqui-evjq4BIJnHWIvYwCNzwBavOFnUJrNNmK4-hSjOKxED4p4Ky_Ca5QtRF4sSzd7NlniB6-JPwdPQJ2xeqtaX_KnYQJbZTQ5A7XjN89PQTyg3qlqjSHko7xYjuLnBd5qKpV6AmlRyrMMq8B2-AhpDT5rckNRMW5MlTLRBoWJr2utSDcw-ynNh8uV46_jaYnP9NyBvVoO4uyXvnHt5RtDINsywpiG_BC3Y2ohTHi2PbgEQ; lc-main=en_US; session-id-time=2082787201l; i18n-prefs=USD; session-token=Bq3AZZtlXHZ8a8V3Pqtn4l0ObZLszxPa1hhMFWsUGuJizpvF+cjTIjJijvDfBEPIe/gqkzTNTjDQ688gfBQ4fi21qcW/L5U9DZogHIOvkJCafJLBay/CRdaGORbhDuFam9RPK9t+gFRpmslV7xpJF9AsX9DR/ElNrt4SjqccFRgbeJj/tIwla3FsCLJbscdi8Xw9fVM0VoQhI2zOoqL/snvk9rEhy9JEdDDS5pC8TaQaBIaiVv3mecHeDVoUM1HA56iu/44GwR7j1fLX22uE8x2HJHyK2tFNF9I2w6SZmfX6ifw918Ky7ekuMjel0x5PYdvxAtSlZAmRxBu5sThp0xm9CaWlEzLygqm7OFD3c7JSU7lskfZYxg==')\n",
    "options.add_argument(\"--accept-encoding=gzip, deflate, br\")  \n",
    "options.add_argument(\"--accept-language=en-US,en;q=0.9\")\n",
    "options.add_argument(\"--cache-control=no-cache\")\n",
    "options.add_argument(\"--content-type=text/plain;charset=UTF-8\")\n",
    "options.add_experimental_option(\"prefs\", \n",
    "                                    {\"profile.default_content_setting_values.notifications\": 2 \n",
    "                                    }) \n",
    "\n",
    "driver = webdriver.Chrome(\n",
    "        # WEB_DRIVER_LOCATION, \n",
    "        options=options)\n",
    "url = \"https://www.amazon.com/s?k=Kindle+Store&i=digital-text&rh=n%3A133140011%2Cp_n_deal_type%3A23566064011&dc&qid=1706467617&rnid=1248985011&ref=sr_nr_selected_filters_p_72_2&ds=v1%3AZRC4RT1%2BRvrPmt8FTw4mkJ%2Bk3F4sePA2BYDE5yVqA0s\" \n",
    "\n",
    "# get soup from driver\n",
    "driver.get(url)\n",
    "soup = get_soup_from_driver(driver)\n",
    "next_page_link = get_next_page_url(soup)\n",
    "\n",
    "urlList = []\n",
    "urlList.append(url)\n",
    "\n",
    "# get all the urls\n",
    "try: \n",
    "    while next_page_link: \n",
    "        print(next_page_link)\n",
    "        urlList.append(next_page_link)\n",
    "\n",
    "        # Timeout needed for Web page to render\n",
    "        time.sleep(random.randrange(2,TIMEOUT))\n",
    "\n",
    "        soup = get_soup_from_url(next_page_link)\n",
    "        next_page_link = get_next_page_url(soup)\n",
    "        \n",
    "except Exception:\n",
    "    print(\"No more pages\")\n"
   ]
  },
  {
   "cell_type": "markdown",
   "metadata": {},
   "source": [
    "<h4>crawel by urlList</h4>"
   ]
  },
  {
   "cell_type": "code",
   "execution_count": 112,
   "metadata": {},
   "outputs": [],
   "source": [
    "# first attempt result \n",
    "# urlList = [\"https://www.amazon.com/s?k=Kindle+Store&i=digital-text&crid=35BK3MAMZOGFM&sprefix=%2Cdigital-text%2C79&ref=nb_sb_noss\",\n",
    "# 'https://www.amazon.com/s?k=Kindle+Store&i=digital-text&rh=n%3A133140011%2Cp_n_deal_type%3A23566064011&dc&page=2&qid=1706498884&rnid=1248985011&ref=sr_pg_1',\n",
    "# 'https://www.amazon.com/s?k=Kindle+Store&i=digital-text&rh=n%3A133140011%2Cp_n_deal_type%3A23566064011&dc&page=2&qid=1706498884&rnid=1248985011&ref=sr_pg_1',\n",
    "# 'https://www.amazon.com/s?k=Kindle+Store&i=digital-text&rh=n%3A133140011%2Cp_n_deal_type%3A23566064011&dc&page=3&qid=1706498890&rnid=1248985011&ref=sr_pg_2',\n",
    "# 'https://www.amazon.com/s?k=Kindle+Store&i=digital-text&rh=n%3A133140011%2Cp_n_deal_type%3A23566064011&dc&page=4&qid=1706498899&rnid=1248985011&ref=sr_pg_3',\n",
    "# 'https://www.amazon.com/s?k=Kindle+Store&i=digital-text&rh=n%3A133140011%2Cp_n_deal_type%3A23566064011&dc&page=5&qid=1706498910&rnid=1248985011&ref=sr_pg_4',\n",
    "# 'https://www.amazon.com/s?k=Kindle+Store&i=digital-text&rh=n%3A133140011%2Cp_n_deal_type%3A23566064011&dc&page=6&qid=1706498920&rnid=1248985011&ref=sr_pg_5',\n",
    "# 'https://www.amazon.com/s?k=Kindle+Store&i=digital-text&rh=n%3A133140011%2Cp_n_deal_type%3A23566064011&dc&page=7&qid=1706498930&rnid=1248985011&ref=sr_pg_6',\n",
    "# 'https://www.amazon.com/s?k=Kindle+Store&i=digital-text&rh=n%3A133140011%2Cp_n_deal_type%3A23566064011&dc&page=8&qid=1706498938&rnid=1248985011&ref=sr_pg_7',\n",
    "# 'https://www.amazon.com/s?k=Kindle+Store&i=digital-text&rh=n%3A133140011%2Cp_n_deal_type%3A23566064011&dc&page=9&qid=1706498947&rnid=1248985011&ref=sr_pg_8',\n",
    "# 'https://www.amazon.com/s?k=Kindle+Store&i=digital-text&rh=n%3A133140011%2Cp_n_deal_type%3A23566064011&dc&page=10&qid=1706498956&rnid=1248985011&ref=sr_pg_9',\n",
    "# 'https://www.amazon.com/s?k=Kindle+Store&i=digital-text&rh=n%3A133140011%2Cp_n_deal_type%3A23566064011&dc&page=11&qid=1706498965&rnid=1248985011&ref=sr_pg_10',\n",
    "# 'https://www.amazon.com/s?k=Kindle+Store&i=digital-text&rh=n%3A133140011%2Cp_n_deal_type%3A23566064011&dc&page=12&qid=1706498973&rnid=1248985011&ref=sr_pg_11',\n",
    "# 'https://www.amazon.com/s?k=Kindle+Store&i=digital-text&rh=n%3A133140011%2Cp_n_deal_type%3A23566064011&dc&page=13&qid=1706498984&rnid=1248985011&ref=sr_pg_12',\n",
    "# 'https://www.amazon.com/s?k=Kindle+Store&i=digital-text&rh=n%3A133140011%2Cp_n_deal_type%3A23566064011&dc&page=14&qid=1706498994&rnid=1248985011&ref=sr_pg_13',\n",
    "# 'https://www.amazon.com/s?k=Kindle+Store&i=digital-text&rh=n%3A133140011%2Cp_n_deal_type%3A23566064011&dc&page=15&qid=1706499004&rnid=1248985011&ref=sr_pg_14',\n",
    "# 'https://www.amazon.com/s?k=Kindle+Store&i=digital-text&rh=n%3A133140011%2Cp_n_deal_type%3A23566064011&dc&page=16&qid=1706499014&rnid=1248985011&ref=sr_pg_15',\n",
    "# 'https://www.amazon.com/s?k=Kindle+Store&i=digital-text&rh=n%3A133140011%2Cp_n_deal_type%3A23566064011&dc&page=17&qid=1706499024&rnid=1248985011&ref=sr_pg_16',\n",
    "# 'https://www.amazon.com/s?k=Kindle+Store&i=digital-text&rh=n%3A133140011%2Cp_n_deal_type%3A23566064011&dc&page=18&qid=1706499033&rnid=1248985011&ref=sr_pg_17',\n",
    "# 'https://www.amazon.com/s?k=Kindle+Store&i=digital-text&rh=n%3A133140011%2Cp_n_deal_type%3A23566064011&dc&page=19&qid=1706499042&rnid=1248985011&ref=sr_pg_18',\n",
    "# 'https://www.amazon.com/s?k=Kindle+Store&i=digital-text&rh=n%3A133140011%2Cp_n_deal_type%3A23566064011&dc&page=20&qid=1706499053&rnid=1248985011&ref=sr_pg_19',\n",
    "# 'https://www.amazon.com/s?k=Kindle+Store&i=digital-text&rh=n%3A133140011%2Cp_n_deal_type%3A23566064011&dc&page=21&qid=1706499062&rnid=1248985011&ref=sr_pg_20',\n",
    "# 'https://www.amazon.com/s?k=Kindle+Store&i=digital-text&rh=n%3A133140011%2Cp_n_deal_type%3A23566064011&dc&page=22&qid=1706499072&rnid=1248985011&ref=sr_pg_21',\n",
    "# 'https://www.amazon.com/s?k=Kindle+Store&i=digital-text&rh=n%3A133140011%2Cp_n_deal_type%3A23566064011&dc&page=23&qid=1706499080&rnid=1248985011&ref=sr_pg_22',\n",
    "# 'https://www.amazon.com/s?k=Kindle+Store&i=digital-text&rh=n%3A133140011%2Cp_n_deal_type%3A23566064011&dc&page=24&qid=1706499091&rnid=1248985011&ref=sr_pg_23']\n",
    "\n",
    "rows = []\n",
    "for e in urlList:\n",
    "    time.sleep(random.randrange(2,5))\n",
    "    soup = get_soup_from_url(e)\n",
    "    ProductListElement = soup.find_all('div', {'cel_widget_id': re.compile('MAIN-SEARCH_RESULTS-\\d+'),'class': 'template=SEARCH_RESULTS'})\n",
    "    for item in ProductListElement:\n",
    "    # get the product information\n",
    "        title, url, price, solder, review, review_number, image_url, crawl_time = product_extractor(item)\n",
    "        rows.append([title, url, price, solder, review, review_number, image_url, crawl_time])"
   ]
  },
  {
   "cell_type": "markdown",
   "metadata": {},
   "source": [
    "<h3>Data Store</h3>"
   ]
  },
  {
   "cell_type": "code",
   "execution_count": 104,
   "metadata": {},
   "outputs": [],
   "source": [
    "# output to csv\n",
    "import csv\n",
    "import os\n",
    "import time\n",
    "\n",
    "abspath = os.path.abspath('')\n",
    "isExists = os.path.exists(abspath+'/outputs')\n",
    "if not isExists:\n",
    "    os.makedirs(abspath+'/outputs')\n",
    "\n",
    "file_name = abspath+\"/outputs/{}-amazon-crawl.csv\".format(time.strftime('%Y-%m-%d %H:%M:%S',time.localtime(time.time())))\n",
    "\n",
    "with open(file_name, 'w') as file:\n",
    "    writer = csv.writer(file)\n",
    "    writer.writerow([\"Title\", \"Product URL\", \"Price\", \"Solder\", \"Review\", \"Review Number\", \"Image URL\", \"Crawl Time\"])\n",
    "    # split the string into a list and write each element in a row\n",
    "    writer.writerows(rows) "
   ]
  }
 ],
 "metadata": {
  "kernelspec": {
   "display_name": "info6105",
   "language": "python",
   "name": "python3"
  },
  "language_info": {
   "codemirror_mode": {
    "name": "ipython",
    "version": 3
   },
   "file_extension": ".py",
   "mimetype": "text/x-python",
   "name": "python",
   "nbconvert_exporter": "python",
   "pygments_lexer": "ipython3",
   "version": "3.8.17"
  },
  "orig_nbformat": 4
 },
 "nbformat": 4,
 "nbformat_minor": 2
}
